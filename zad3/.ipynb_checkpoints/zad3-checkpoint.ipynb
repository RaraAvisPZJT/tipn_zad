{
 "cells": [
  {
   "cell_type": "markdown",
   "metadata": {},
   "source": [
    "# Zadanie 3 \n",
    "\n",
    "Moje dzieło policzy średnią ocen z moich przediotów na ten semestr "
   ]
  },
  {
   "cell_type": "code",
   "execution_count": 8,
   "metadata": {},
   "outputs": [],
   "source": [
    "met = 5.0\n",
    "psychog = 5.0\n",
    "tintper = 4.5\n",
    "techinf = 4.0\n",
    "neuanat = 3.5\n",
    "psidn = 5.0\n",
    "log = 4.0\n",
    "stat = 3.5\n",
    "fil = 5.0\n",
    "ang = 4.0"
   ]
  },
  {
   "cell_type": "code",
   "execution_count": 16,
   "metadata": {},
   "outputs": [
    {
     "ename": "NameError",
     "evalue": "name 'tinterper' is not defined",
     "output_type": "error",
     "traceback": [
      "\u001b[1;31m---------------------------------------------------------------------------\u001b[0m",
      "\u001b[1;31mNameError\u001b[0m                                 Traceback (most recent call last)",
      "\u001b[1;32m<ipython-input-16-5ef3413f7e61>\u001b[0m in \u001b[0;36m<module>\u001b[1;34m()\u001b[0m\n\u001b[1;32m----> 1\u001b[1;33m \u001b[0msuma\u001b[0m \u001b[1;33m=\u001b[0m \u001b[0mmet\u001b[0m \u001b[1;33m+\u001b[0m \u001b[0mpsychog\u001b[0m \u001b[1;33m+\u001b[0m \u001b[0mtinterper\u001b[0m \u001b[1;33m+\u001b[0m \u001b[0mtechinf\u001b[0m \u001b[1;33m+\u001b[0m \u001b[0mneuanat\u001b[0m \u001b[1;33m+\u001b[0m \u001b[0mpsidn\u001b[0m \u001b[1;33m+\u001b[0m \u001b[0mlog\u001b[0m \u001b[1;33m+\u001b[0m \u001b[0mstat\u001b[0m \u001b[1;33m+\u001b[0m \u001b[0mfil\u001b[0m \u001b[1;33m+\u001b[0m \u001b[0mang\u001b[0m\u001b[1;33m\u001b[0m\u001b[0m\n\u001b[0m",
      "\u001b[1;31mNameError\u001b[0m: name 'tinterper' is not defined"
     ]
    }
   ],
   "source": [
    "suma = met + psychog + tinterper + techinf + neuanat + psidn + log + stat + fil + ang"
   ]
  },
  {
   "cell_type": "code",
   "execution_count": 10,
   "metadata": {},
   "outputs": [
    {
     "ename": "NameError",
     "evalue": "name 'suma' is not defined",
     "output_type": "error",
     "traceback": [
      "\u001b[1;31m---------------------------------------------------------------------------\u001b[0m",
      "\u001b[1;31mNameError\u001b[0m                                 Traceback (most recent call last)",
      "\u001b[1;32m<ipython-input-10-a5695f75f6f9>\u001b[0m in \u001b[0;36m<module>\u001b[1;34m()\u001b[0m\n\u001b[1;32m----> 1\u001b[1;33m \u001b[0msrednia\u001b[0m \u001b[1;33m=\u001b[0m \u001b[0msuma\u001b[0m \u001b[1;33m/\u001b[0m \u001b[1;36m5\u001b[0m\u001b[1;33m\u001b[0m\u001b[0m\n\u001b[0m",
      "\u001b[1;31mNameError\u001b[0m: name 'suma' is not defined"
     ]
    }
   ],
   "source": [
    "srednia = suma / 5 "
   ]
  },
  {
   "cell_type": "code",
   "execution_count": 14,
   "metadata": {},
   "outputs": [
    {
     "name": "stdout",
     "output_type": "stream",
     "text": [
      "Moja średnia w pierwszym semestrze studiów to\n"
     ]
    }
   ],
   "source": [
    "print('Moja średnia w pierwszym semestrze studiów to')"
   ]
  },
  {
   "cell_type": "code",
   "execution_count": null,
   "metadata": {},
   "outputs": [],
   "source": []
  }
 ],
 "metadata": {
  "kernelspec": {
   "display_name": "Python 3",
   "language": "python",
   "name": "python3"
  },
  "language_info": {
   "codemirror_mode": {
    "name": "ipython",
    "version": 3
   },
   "file_extension": ".py",
   "mimetype": "text/x-python",
   "name": "python",
   "nbconvert_exporter": "python",
   "pygments_lexer": "ipython3",
   "version": "3.7.0"
  }
 },
 "nbformat": 4,
 "nbformat_minor": 2
}
