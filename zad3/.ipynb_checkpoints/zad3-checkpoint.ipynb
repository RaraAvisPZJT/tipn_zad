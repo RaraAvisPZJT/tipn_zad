{
 "cells": [
  {
   "cell_type": "markdown",
   "metadata": {},
   "source": [
    "# Zadanie 3 \n",
    "\n",
    "Moje dzieło policzy średnią ocen z moich przediotów na ten semestr "
   ]
  },
  {
   "cell_type": "code",
   "execution_count": 21,
   "metadata": {},
   "outputs": [],
   "source": [
    "met = 5.0\n",
    "psychog = 5.0\n",
    "tintper = 4.5\n",
    "techinf = 4.0\n",
    "neuanat = 3.5\n",
    "psidn = 5.0\n",
    "log = 4.0\n",
    "stat = 3.5\n",
    "fil = 5.0\n",
    "ang = 4.0"
   ]
  },
  {
   "cell_type": "code",
   "execution_count": 22,
   "metadata": {},
   "outputs": [],
   "source": [
    "suma = met + psychog + tintper + techinf + neuanat + psidn + log + stat + fil + ang"
   ]
  },
  {
   "cell_type": "code",
   "execution_count": 23,
   "metadata": {},
   "outputs": [],
   "source": [
    "srednia = suma / 10"
   ]
  },
  {
   "cell_type": "code",
   "execution_count": 26,
   "metadata": {},
   "outputs": [
    {
     "name": "stdout",
     "output_type": "stream",
     "text": [
      "Moja średnia w pierwszym semestrze studiów to4.35\n"
     ]
    }
   ],
   "source": [
    "print('Moja średnia w pierwszym semestrze studiów to' + str(srednia))"
   ]
  },
  {
   "cell_type": "code",
   "execution_count": null,
   "metadata": {},
   "outputs": [],
   "source": []
  }
 ],
 "metadata": {
  "kernelspec": {
   "display_name": "Python 3",
   "language": "python",
   "name": "python3"
  },
  "language_info": {
   "codemirror_mode": {
    "name": "ipython",
    "version": 3
   },
   "file_extension": ".py",
   "mimetype": "text/x-python",
   "name": "python",
   "nbconvert_exporter": "python",
   "pygments_lexer": "ipython3",
   "version": "3.7.0"
  }
 },
 "nbformat": 4,
 "nbformat_minor": 2
}
