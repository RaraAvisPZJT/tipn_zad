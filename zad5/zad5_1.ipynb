{
 "cells": [
  {
   "cell_type": "code",
   "execution_count": 1,
   "metadata": {},
   "outputs": [
    {
     "name": "stdin",
     "output_type": "stream",
     "text": [
      "Wpisz liczbę, by obliczyć z niej silnię: 5\n"
     ]
    },
    {
     "name": "stdout",
     "output_type": "stream",
     "text": [
      "120\n"
     ]
    }
   ],
   "source": [
    "liczba = input(\"Wpisz liczbę, by obliczyć z niej silnię:\")\n",
    "while liczba == \"\":\n",
    "    print(\"Wpisz waść liczbę, wstydu oszczędź!\")\n",
    "    liczba = input(\"Wpisz liczbę, by obliczyć z niej silnię:\")\n",
    "liczba = int(liczba)\n",
    "zmienna = liczba\n",
    "while liczba > 1:\n",
    "    zmienna = zmienna * (liczba - 1)\n",
    "    liczba -=1\n",
    "print(zmienna)"
   ]
  },
  {
   "cell_type": "code",
   "execution_count": null,
   "metadata": {},
   "outputs": [],
   "source": []
  }
 ],
 "metadata": {
  "kernelspec": {
   "display_name": "Python 3",
   "language": "python",
   "name": "python3"
  },
  "language_info": {
   "codemirror_mode": {
    "name": "ipython",
    "version": 3
   },
   "file_extension": ".py",
   "mimetype": "text/x-python",
   "name": "python",
   "nbconvert_exporter": "python",
   "pygments_lexer": "ipython3",
   "version": "3.7.0"
  }
 },
 "nbformat": 4,
 "nbformat_minor": 2
}
