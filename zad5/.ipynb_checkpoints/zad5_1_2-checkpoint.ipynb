{
 "cells": [
  {
   "cell_type": "code",
   "execution_count": null,
   "metadata": {},
   "outputs": [],
   "source": [
    "liczba = input(\"Wpisz liczbę, by obliczyć z niej silnię:\")\n",
    "if liczba[0] == \"1\" or \"2\" or \"3\" or \"4\" or \"5\" or \"6\" or \"7\" or \"8\" or \"9\" or \"0\":\n",
    "    liczba = int(liczba)\n",
    "    while liczba > 0:\n",
    "        liczba * (liczba - 1)\n",
    "        liczba == liczba -1\n",
    "    print(liczba)"
   ]
  },
  {
   "cell_type": "code",
   "execution_count": 12,
   "metadata": {},
   "outputs": [
    {
     "name": "stdout",
     "output_type": "stream",
     "text": [
      "20\n",
      "12\n",
      "6\n",
      "2\n"
     ]
    }
   ],
   "source": [
    "licznik = 5\n",
    "\n",
    "while licznik > 1:\n",
    "    print(licznik * (licznik - 1))\n",
    "    licznik -= 1"
   ]
  },
  {
   "cell_type": "code",
   "execution_count": null,
   "metadata": {},
   "outputs": [],
   "source": []
  }
 ],
 "metadata": {
  "kernelspec": {
   "display_name": "Python 3",
   "language": "python",
   "name": "python3"
  },
  "language_info": {
   "codemirror_mode": {
    "name": "ipython",
    "version": 3
   },
   "file_extension": ".py",
   "mimetype": "text/x-python",
   "name": "python",
   "nbconvert_exporter": "python",
   "pygments_lexer": "ipython3",
   "version": "3.7.0"
  }
 },
 "nbformat": 4,
 "nbformat_minor": 2
}
