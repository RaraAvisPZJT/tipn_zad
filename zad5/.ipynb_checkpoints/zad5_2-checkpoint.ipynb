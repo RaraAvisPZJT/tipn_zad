{
 "cells": [
  {
   "cell_type": "code",
   "execution_count": 9,
   "metadata": {},
   "outputs": [
    {
     "name": "stdin",
     "output_type": "stream",
     "text": [
      "Wpisz liczbę aby uzyskać sumę jej cyfr: 1234567890\n"
     ]
    },
    {
     "name": "stdout",
     "output_type": "stream",
     "text": [
      "45\n"
     ]
    }
   ],
   "source": [
    "liczba = input(\"Wpisz liczbę aby uzyskać sumę jej cyfr:\")\n",
    "liczba = str(liczba)\n",
    "licznik = 0\n",
    "\n",
    "for i in liczba:\n",
    "    if i == \"1\":\n",
    "        licznik += 1\n",
    "    elif i == \"2\":\n",
    "        licznik += 2\n",
    "    elif i == \"3\":\n",
    "        licznik += 3\n",
    "    elif i == \"4\":\n",
    "        licznik += 4\n",
    "    elif i == \"5\":\n",
    "        licznik += 5\n",
    "    elif i == \"6\":\n",
    "        licznik += 6\n",
    "    elif i == \"7\":\n",
    "        licznik += 7\n",
    "    elif i == \"8\":\n",
    "        licznik += 8\n",
    "    elif i == \"9\":\n",
    "        licznik += 9\n",
    "    elif i == \"0\":\n",
    "        licznik += 0\n",
    "        \n",
    "print(licznik)"
   ]
  },
  {
   "cell_type": "code",
   "execution_count": null,
   "metadata": {},
   "outputs": [],
   "source": []
  }
 ],
 "metadata": {
  "kernelspec": {
   "display_name": "Python 3",
   "language": "python",
   "name": "python3"
  },
  "language_info": {
   "codemirror_mode": {
    "name": "ipython",
    "version": 3
   },
   "file_extension": ".py",
   "mimetype": "text/x-python",
   "name": "python",
   "nbconvert_exporter": "python",
   "pygments_lexer": "ipython3",
   "version": "3.7.0"
  }
 },
 "nbformat": 4,
 "nbformat_minor": 2
}
