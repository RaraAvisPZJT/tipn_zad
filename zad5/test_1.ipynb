{
 "cells": [
  {
   "cell_type": "markdown",
   "metadata": {},
   "source": [
    "# Zad5_1\n",
    "\n",
    "Mój program jest troloodporny w 100% i się nie wykrzacza (W teori, nie przewiduje sabotażu aka. zmiany języka na inny niż polski i innych znaczków niż te, które są na klawiaturze oraz innych sztuczek... dobra nie jest w 100%, ale się starałem jak mogłem).\n",
    "\n",
    "~Dopytać o: if lista [0:] i tym podobne.~"
   ]
  },
  {
   "cell_type": "code",
   "execution_count": 19,
   "metadata": {},
   "outputs": [
    {
     "name": "stdin",
     "output_type": "stream",
     "text": [
      "Wpisz liczbę, by obliczyć z niej silnię: @\n"
     ]
    },
    {
     "name": "stdout",
     "output_type": "stream",
     "text": [
      "Waść machasz palcem po klawiaturze jak cepem. - przykład analogii nośnej.\n"
     ]
    }
   ],
   "source": [
    "\n",
    "\n",
    "liczba = input(\"Wpisz liczbę, by obliczyć z niej silnię:\")\n",
    "if liczba == \"\":\n",
    "    print(\"Proszę wpisać liczbę, a nie testować głupko/troloodporność mojego programu!!!\")\n",
    "elif liczba[-1] == \".\":\n",
    "    print(\"Rozumiem. Pewnie masz rację, ale wpisz liczbę, a nie zdanie\")\n",
    "elif liczba[-1] == \"!\":\n",
    "    print(\"Nie krzycz! Słyszę cię całkiem dobrze, ale wpisz liczbę!\")\n",
    "elif liczba[-1] == \"?\":\n",
    "    print(\"Nie wiem, nie znam się, natomiast znam się na liczbach.\")\n",
    "elif liczba[0] == \"a\" or \"A\" or \"b\" or \"B\" or \"c\" or \"C\" or \"d\" or \"D\" or \"e\" or \"E\" or \"f\" or \"F\" or \"g\" or \"G\" or \"h\" or \"H\" or \"i\" or \"I\" or \"ą\" or \"Ą\" or \"ę\" or \"Ę\" or \"j\" or \"J\" or \"k\" or \"K\" or \"ć\" or \"Ć\" or \"l\" or \"L\" or \"ł\" or \"Ł\" or \"m\" or \"M\" or \"n\" or \"N\" or \"Ń\" or \"Ń\" or \"o\" or \"O\" or \"ó\" or \"Ó\" or \"p\" or \"P\" or \"r\" or \"R\" or \"s\" or \"S\" or \"ś\" or \"Ś\" or \"t\" or \"T\" or \"u\" or \"U\" or \"w\" or \"W\" or \"y\" or \"Y\" or \"z\" or \"Z\" or \"ź\" or \"Ź\" or \"Ż\" or \"ż\":\n",
    "    print(\"Waść machasz palcem po klawiaturze jak cepem. - przykład analogii nośnej.\")\n",
    "elif liczba[0] == \"@\" or \"#\" or \"$\" or \"%\" or \"^\" or \"&\" or \"*\" or \"(\" or \")\":\n",
    "    print(\"Wpisz waść liczbę wstydu oszcędź!!!\")"
   ]
  },
  {
   "cell_type": "code",
   "execution_count": null,
   "metadata": {},
   "outputs": [],
   "source": []
  }
 ],
 "metadata": {
  "kernelspec": {
   "display_name": "Python 3",
   "language": "python",
   "name": "python3"
  },
  "language_info": {
   "codemirror_mode": {
    "name": "ipython",
    "version": 3
   },
   "file_extension": ".py",
   "mimetype": "text/x-python",
   "name": "python",
   "nbconvert_exporter": "python",
   "pygments_lexer": "ipython3",
   "version": "3.7.0"
  }
 },
 "nbformat": 4,
 "nbformat_minor": 2
}
