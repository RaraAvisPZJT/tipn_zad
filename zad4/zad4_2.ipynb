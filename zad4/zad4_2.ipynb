{
 "cells": [
  {
   "cell_type": "markdown",
   "metadata": {},
   "source": [
    "# Zad 4_2\n",
    "\n",
    "Jestem ciekaw czy to wgl zadziała."
   ]
  },
  {
   "cell_type": "code",
   "execution_count": 7,
   "metadata": {},
   "outputs": [],
   "source": [
    "przedmioty = [\"metodologia\", \"psychologia ogólna\", \"neuroanatomia\", \"wprowadzenie do statystyki\", \"angielski\"]\n",
    "oceny = [5.0, 5.0, 3.5, 3.5, 4]\n",
    "indeks = []"
   ]
  },
  {
   "cell_type": "code",
   "execution_count": 8,
   "metadata": {},
   "outputs": [
    {
     "name": "stdin",
     "output_type": "stream",
     "text": [
      "podaj rzecz: rzecz\n",
      "podaj 2 rzecz: rzecz\n",
      "podaj 3 rzecz: rzecz\n"
     ]
    },
    {
     "name": "stdout",
     "output_type": "stream",
     "text": [
      "['rzecz', 'rzecz', 'rzecz']\n"
     ]
    }
   ],
   "source": [
    "pusta_lista = []\n",
    "rzecz = input(\"podaj rzecz:\")\n",
    "pusta_lista.append(rzecz)\n",
    "rzecz = input(\"podaj 2 rzecz:\")\n",
    "pusta_lista.append(rzecz)\n",
    "rzecz = input(\"podaj 3 rzecz:\")\n",
    "pusta_lista.append(rzecz)\n",
    "print(pusta_lista)"
   ]
  },
  {
   "cell_type": "code",
   "execution_count": 18,
   "metadata": {},
   "outputs": [
    {
     "name": "stdin",
     "output_type": "stream",
     "text": [
      "Wpisz przedmiot nr 1: met\n",
      "Wpisz przedmiot nr 2 bad\n",
      "Wpisz przedmiot nr 3 sek\n",
      "Wpisz przedmiot nr 4 hew\n",
      "Wpisz przedmiot nr 5 nau\n"
     ]
    }
   ],
   "source": [
    "przedmioty = []\n",
    "przedmiot_1 = input (\"Wpisz przedmiot nr 1:\")\n",
    "przedmioty.append(przedmiot_1)\n",
    "przedmiot_2 = input (\"Wpisz przedmiot nr 2\")\n",
    "przedmioty.append(przedmiot_2)\n",
    "przedmiot_3 = input (\"Wpisz przedmiot nr 3\")\n",
    "przedmioty.append(przedmiot_3)\n",
    "przedmiot_4 = input (\"Wpisz przedmiot nr 4\")\n",
    "przedmioty.append(przedmiot_4)\n",
    "przedmiot_5 = input (\"Wpisz przedmiot nr 5\")\n",
    "przedmioty.append(przedmiot_5)"
   ]
  },
  {
   "cell_type": "code",
   "execution_count": 35,
   "metadata": {},
   "outputs": [
    {
     "name": "stdin",
     "output_type": "stream",
     "text": [
      "Wpisz ocenę dla przedmiotu nr 1: 1\n"
     ]
    }
   ],
   "source": [
    "oceny = []\n",
    "ocena_1 = input (\"Wpisz ocenę dla przedmiotu nr 1:\")\n",
    "oceny.append(ocena_1)"
   ]
  },
  {
   "cell_type": "code",
   "execution_count": 36,
   "metadata": {},
   "outputs": [
    {
     "data": {
      "text/plain": [
       "['1']"
      ]
     },
     "execution_count": 36,
     "metadata": {},
     "output_type": "execute_result"
    }
   ],
   "source": [
    "oceny"
   ]
  },
  {
   "cell_type": "code",
   "execution_count": null,
   "metadata": {},
   "outputs": [],
   "source": []
  }
 ],
 "metadata": {
  "kernelspec": {
   "display_name": "Python 3",
   "language": "python",
   "name": "python3"
  },
  "language_info": {
   "codemirror_mode": {
    "name": "ipython",
    "version": 3
   },
   "file_extension": ".py",
   "mimetype": "text/x-python",
   "name": "python",
   "nbconvert_exporter": "python",
   "pygments_lexer": "ipython3",
   "version": "3.7.0"
  }
 },
 "nbformat": 4,
 "nbformat_minor": 2
}
