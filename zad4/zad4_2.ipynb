{
 "cells": [
  {
   "cell_type": "markdown",
   "metadata": {},
   "source": [
    "# Zad 4_2\n",
    "\n",
    "Jestem ciekaw czy to wgl zadziała."
   ]
  },
  {
   "cell_type": "code",
   "execution_count": 7,
   "metadata": {},
   "outputs": [],
   "source": [
    "przedmioty = [\"metodologia\", \"psychologia ogólna\", \"neuroanatomia\", \"wprowadzenie do statystyki\", \"angielski\"]\n",
    "oceny = [5.0, 5.0, 3.5, 3.5, 4]\n",
    "indeks = []"
   ]
  },
  {
   "cell_type": "code",
   "execution_count": 8,
   "metadata": {},
   "outputs": [
    {
     "name": "stdin",
     "output_type": "stream",
     "text": [
      "podaj rzecz: rzecz\n",
      "podaj 2 rzecz: rzecz\n",
      "podaj 3 rzecz: rzecz\n"
     ]
    },
    {
     "name": "stdout",
     "output_type": "stream",
     "text": [
      "['rzecz', 'rzecz', 'rzecz']\n"
     ]
    }
   ],
   "source": [
    "pusta_lista = []\n",
    "rzecz = input(\"podaj rzecz:\")\n",
    "pusta_lista.append(rzecz)\n",
    "rzecz = input(\"podaj 2 rzecz:\")\n",
    "pusta_lista.append(rzecz)\n",
    "rzecz = input(\"podaj 3 rzecz:\")\n",
    "pusta_lista.append(rzecz)\n",
    "print(pusta_lista)"
   ]
  },
  {
   "cell_type": "code",
   "execution_count": 10,
   "metadata": {},
   "outputs": [
    {
     "name": "stdin",
     "output_type": "stream",
     "text": [
      "Wpisz przedmiot nr 1: 1\n",
      "Wpisz przedmiot nr 2 2\n",
      "Wpisz przedmiot nr 3 3\n",
      "Wpisz przedmiot nr 4 4\n",
      "Wpisz przedmiot nr 5 5\n"
     ]
    }
   ],
   "source": [
    "przedmioty = []\n",
    "przedmiot_1 = input (\"Wpisz przedmiot nr 1:\")\n",
    "przedmioty.append(przedmiot_1)\n",
    "przedmiot_2 = input (\"Wpisz przedmiot nr 2\")\n",
    "przedmioty.append(przedmiot_2)\n",
    "przedmiot_3 = input (\"Wpisz przedmiot nr 3\")\n",
    "przedmioty.append(przedmiot_3)\n",
    "przedmiot_4 = input (\"Wpisz przedmiot nr 4\")\n",
    "przedmioty.append(przedmiot_4)\n",
    "przedmiot_5 = input (\"Wpisz przedmiot nr 5\")\n",
    "przedmioty.append(przedmiot_5)"
   ]
  },
  {
   "cell_type": "code",
   "execution_count": 11,
   "metadata": {},
   "outputs": [
    {
     "data": {
      "text/plain": [
       "['1', '2', '3', '4', '5']"
      ]
     },
     "execution_count": 11,
     "metadata": {},
     "output_type": "execute_result"
    }
   ],
   "source": [
    "przedmioty"
   ]
  },
  {
   "cell_type": "code",
   "execution_count": 6,
   "metadata": {},
   "outputs": [
    {
     "name": "stdin",
     "output_type": "stream",
     "text": [
      "Wpisz ocenę dla przedmiotu nr 1: 1\n",
      "Wpisz ocenę dla przedmiotu nr 2: 2\n",
      "Wpisz ocenę dla przedmiotu nr 3: 3\n",
      "Wpisz ocenę dla przedmiotu nr 4: 4\n",
      "Wpisz ocenę dla przedmiotu nr 5: 5\n"
     ]
    }
   ],
   "source": [
    "oceny = []\n",
    "ocena_1 = input (\"Wpisz ocenę dla przedmiotu nr 1:\")\n",
    "oceny.append(ocena_1)\n",
    "ocena_2 = input (\"Wpisz ocenę dla przedmiotu nr 2:\")\n",
    "oceny.append(ocena_2)\n",
    "ocena_3 = input (\"Wpisz ocenę dla przedmiotu nr 3:\")\n",
    "oceny.append(ocena_3)\n",
    "ocena_4 = input (\"Wpisz ocenę dla przedmiotu nr 4:\")\n",
    "oceny.append(ocena_4)\n",
    "ocena_5 = input (\"Wpisz ocenę dla przedmiotu nr 5:\")\n",
    "oceny.append(ocena_5)"
   ]
  },
  {
   "cell_type": "code",
   "execution_count": 7,
   "metadata": {},
   "outputs": [
    {
     "data": {
      "text/plain": [
       "['1', '2', '3', '4', '5']"
      ]
     },
     "execution_count": 7,
     "metadata": {},
     "output_type": "execute_result"
    }
   ],
   "source": [
    "oceny"
   ]
  },
  {
   "cell_type": "code",
   "execution_count": 60,
   "metadata": {},
   "outputs": [
    {
     "name": "stdin",
     "output_type": "stream",
     "text": [
      "Wpisz ocenę z metodologia: 5.0\n",
      "Wpisz ocenę z psychologia ogólna: 5.0\n",
      "Wpisz ocenę z neuroanatonmia: 3.0\n",
      "Wpisz ocenę z wprowadzenie do statystyki: 3.5\n",
      "Wpisz ocenę z angielski: 4.0\n"
     ]
    }
   ],
   "source": [
    "przedmioty = [\"metodologia\", \"psychologia ogólna\", \"neuroanatomia\", \"wprowadzenie do statystyki\", \"angielski\"]\n",
    "oceny = []\n",
    "ocena_1 = input (\"Wpisz ocenę z metodologia:\")\n",
    "oceny.append(ocena_1)\n",
    "ocena_2 = input (\"Wpisz ocenę z psychologia ogólna:\")\n",
    "oceny.append(ocena_2)\n",
    "ocena_3 = input (\"Wpisz ocenę z neuroanatonmia:\")\n",
    "oceny.append(ocena_3)\n",
    "ocena_4 = input (\"Wpisz ocenę z wprowadzenie do statystyki:\")\n",
    "oceny.append(ocena_4)\n",
    "ocena_5 = input(\"Wpisz ocenę z angielski:\")\n",
    "oceny.append(ocena_5)"
   ]
  },
  {
   "cell_type": "code",
   "execution_count": 66,
   "metadata": {},
   "outputs": [
    {
     "ename": "TypeError",
     "evalue": "'float' object is not iterable",
     "output_type": "error",
     "traceback": [
      "\u001b[1;31m---------------------------------------------------------------------------\u001b[0m",
      "\u001b[1;31mTypeError\u001b[0m                                 Traceback (most recent call last)",
      "\u001b[1;32m<ipython-input-66-0328aa9191d6>\u001b[0m in \u001b[0;36m<module>\u001b[1;34m()\u001b[0m\n\u001b[1;32m----> 1\u001b[1;33m \u001b[0msum\u001b[0m\u001b[1;33m(\u001b[0m \u001b[0mfloat\u001b[0m \u001b[1;33m(\u001b[0m\u001b[0mocena_1\u001b[0m\u001b[1;33m)\u001b[0m\u001b[1;33m,\u001b[0m \u001b[0mfloat\u001b[0m \u001b[1;33m(\u001b[0m\u001b[0mocena_2\u001b[0m\u001b[1;33m)\u001b[0m \u001b[1;33m)\u001b[0m\u001b[1;33m\u001b[0m\u001b[0m\n\u001b[0m",
      "\u001b[1;31mTypeError\u001b[0m: 'float' object is not iterable"
     ]
    }
   ],
   "source": []
  },
  {
   "cell_type": "code",
   "execution_count": null,
   "metadata": {},
   "outputs": [],
   "source": []
  }
 ],
 "metadata": {
  "kernelspec": {
   "display_name": "Python 3",
   "language": "python",
   "name": "python3"
  },
  "language_info": {
   "codemirror_mode": {
    "name": "ipython",
    "version": 3
   },
   "file_extension": ".py",
   "mimetype": "text/x-python",
   "name": "python",
   "nbconvert_exporter": "python",
   "pygments_lexer": "ipython3",
   "version": "3.7.0"
  }
 },
 "nbformat": 4,
 "nbformat_minor": 2
}
