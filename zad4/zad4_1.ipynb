{
 "cells": [
  {
   "cell_type": "markdown",
   "metadata": {},
   "source": [
    "# Zad4_1\n",
    "\n",
    "Mój program jest głupkoodporny - nie jest ważne co wpiszesz lub nie wpiszesz i tak sie nie wywali."
   ]
  },
  {
   "cell_type": "code",
   "execution_count": 3,
   "metadata": {},
   "outputs": [
    {
     "name": "stdin",
     "output_type": "stream",
     "text": [
      "Wpisz zdanie: ,\n"
     ]
    },
    {
     "name": "stdout",
     "output_type": "stream",
     "text": [
      "Nie rozumiem.\n"
     ]
    }
   ],
   "source": [
    "zdanie = input(\"Wpisz zdanie:\")\n",
    "if zdanie == \"\": \n",
    "    print(\"Proszę wpisać zdanie a nie testować głupko/troloodporność mojego programu!\")\n",
    "else:\n",
    "    zdanie = str(zdanie)\n",
    "    if zdanie == \".\":\n",
    "        print(\"Rozumiem. Pewnie masz rację.\")\n",
    "    elif zdanie == \"!\":\n",
    "        print(\"Nie krzycz! Słyszę się całkiem dobrze!.\")\n",
    "    elif zdanie == \"?\":\n",
    "        print(\"Nie wiem, nie znam się.\")\n",
    "    else:\n",
    "        print(\"Nie rozumiem.\")"
   ]
  },
  {
   "cell_type": "code",
   "execution_count": null,
   "metadata": {},
   "outputs": [],
   "source": []
  }
 ],
 "metadata": {
  "kernelspec": {
   "display_name": "Python 3",
   "language": "python",
   "name": "python3"
  },
  "language_info": {
   "codemirror_mode": {
    "name": "ipython",
    "version": 3
   },
   "file_extension": ".py",
   "mimetype": "text/x-python",
   "name": "python",
   "nbconvert_exporter": "python",
   "pygments_lexer": "ipython3",
   "version": "3.7.0"
  }
 },
 "nbformat": 4,
 "nbformat_minor": 2
}
