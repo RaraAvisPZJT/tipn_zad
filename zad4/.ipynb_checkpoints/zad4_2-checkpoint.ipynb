{
 "cells": [
  {
   "cell_type": "markdown",
   "metadata": {},
   "source": [
    "# Zad 4_2\n",
    "\n",
    "Jestem ciekaw czy to wgl zadziała."
   ]
  },
  {
   "cell_type": "code",
   "execution_count": 11,
   "metadata": {},
   "outputs": [
    {
     "name": "stdin",
     "output_type": "stream",
     "text": [
      "Wpisz ocenę z metodologia: 5\n",
      "Wpisz ocenę z psychologia ogólna: 5\n",
      "Wpisz ocenę z neuroanatonmia: 3\n",
      "Wpisz ocenę z wprowadzenie do statystyki: 3.5\n",
      "Wpisz ocenę z angielski: 4\n"
     ]
    },
    {
     "name": "stdout",
     "output_type": "stream",
     "text": [
      "4.1\n"
     ]
    }
   ],
   "source": [
    "przedmioty = [\"metodologia\", \"psychologia ogólna\", \"neuroanatomia\", \"wprowadzenie do statystyki\", \"angielski\"]\n",
    "oceny = []\n",
    "ocena_1 = input (\"Wpisz ocenę z metodologia:\")\n",
    "ocena_1 = float (ocena_1)\n",
    "oceny.append(ocena_1)\n",
    "ocena_2 = input (\"Wpisz ocenę z psychologia ogólna:\")\n",
    "ocena_2 = float (ocena_2)\n",
    "oceny.append(ocena_2)\n",
    "ocena_3 = input (\"Wpisz ocenę z neuroanatonmia:\")\n",
    "ocena_3 = float (ocena_3)\n",
    "oceny.append(ocena_3)\n",
    "ocena_4 = input (\"Wpisz ocenę z wprowadzenie do statystyki:\")\n",
    "ocena_4 = float (ocena_4)\n",
    "oceny.append(ocena_4)\n",
    "ocena_5 = input(\"Wpisz ocenę z angielski:\")\n",
    "ocena_5 = float (ocena_5)\n",
    "oceny.append(ocena_5)\n",
    "średnia = sum(oceny) / len(oceny)\n",
    "print(średnia)"
   ]
  },
  {
   "cell_type": "code",
   "execution_count": null,
   "metadata": {},
   "outputs": [],
   "source": []
  }
 ],
 "metadata": {
  "kernelspec": {
   "display_name": "Python 3",
   "language": "python",
   "name": "python3"
  },
  "language_info": {
   "codemirror_mode": {
    "name": "ipython",
    "version": 3
   },
   "file_extension": ".py",
   "mimetype": "text/x-python",
   "name": "python",
   "nbconvert_exporter": "python",
   "pygments_lexer": "ipython3",
   "version": "3.7.0"
  }
 },
 "nbformat": 4,
 "nbformat_minor": 2
}
