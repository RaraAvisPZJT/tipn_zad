{
 "cells": [
  {
   "cell_type": "code",
   "execution_count": 4,
   "metadata": {},
   "outputs": [],
   "source": [
    "pytanie = [\"Jestem osobą, która przykłada uwagę do dbania o swoje ciało w aspekcie kondycyjnym i fizycznym.\", \"Jestem osobą, która przykłada uwagę do zdrowego odżywiania się(cokolwiek to znaczy).\", \"Jestem osobą, która w ogóle nie pije alkoholu, a jeśli już to naprawde sporadycznie.\", \"Uważam, iż nie posiadam kałduna taktycznego.\", \"Jest mi źle z tym jak wyglądam i chciał(a)bym być chudszy lub bardziej umięśniony.\"]\n",
    "wyniki = []\n",
    "\n",
    "def zadaj_pytanie(x):\n",
    "    wynik = input(\"odpowiedz na poniższe pytanie wybierając cyfrę od 1 do 5, które znaczą: 1 - kłamstwa i oszczerstwa!!! nigdy taki nie byłem i nie będę; 2 - Phii... to nie dla mnie; 3 - Nie mam zdania na ten temat/nie mam jak się do niego uwarunkować; 4 - Tak, uważam że to zdanie całkiem sprawnie mnie opisuje; 5 - Mocno się z tym zdaniem zgadzam, poświęcam bardzo dużo czasu i swojej uwagi by tak było.\", pytanie[1])"
   ]
  },
  {
   "cell_type": "code",
   "execution_count": 6,
   "metadata": {},
   "outputs": [
    {
     "data": {
      "text/plain": [
       "<function __main__.zadaj_pytanie(x)>"
      ]
     },
     "execution_count": 6,
     "metadata": {},
     "output_type": "execute_result"
    }
   ],
   "source": [
    "zadaj_pytanie\n"
   ]
  },
  {
   "cell_type": "code",
   "execution_count": null,
   "metadata": {},
   "outputs": [],
   "source": []
  }
 ],
 "metadata": {
  "kernelspec": {
   "display_name": "Python 3",
   "language": "python",
   "name": "python3"
  },
  "language_info": {
   "codemirror_mode": {
    "name": "ipython",
    "version": 3
   },
   "file_extension": ".py",
   "mimetype": "text/x-python",
   "name": "python",
   "nbconvert_exporter": "python",
   "pygments_lexer": "ipython3",
   "version": "3.7.0"
  }
 },
 "nbformat": 4,
 "nbformat_minor": 2
}
