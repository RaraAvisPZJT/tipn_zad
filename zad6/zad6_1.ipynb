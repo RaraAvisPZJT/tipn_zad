{
 "cells": [
  {
   "cell_type": "code",
   "execution_count": 6,
   "metadata": {},
   "outputs": [],
   "source": [
    "a = \"Jestem osobą, która przykłada uwagę do dbania o swoje ciało w aspekcie kondycyjnym i fizycznym.\"\n",
    "b = \"Jestem osobą, która przykłada uwagę do zdrowego odżywiania się (cokolwiek to znaczy).\"\n",
    "c = \"Jestem osobą, która w ogóle nie pije alkoholu, a jeśli już to naprawde sporadycznie.\"\n",
    "d = \"Uważam, iż nie posiadam kałduna taktycznego.\"\n",
    "e = \"Jest mi źle z tym jak wyglądam i chciał(a)bym być chudszy lub bardziej umięśniony.\"\n",
    "pytania = [a, b, c, d, e]\n",
    "odpowiedzi = \"odpowiedz na poniższe pytanie wybierając cyfrę od 1 do 5, które znaczą: 1 - kłamstwa i oszczerstwa!!! nigdy taki nie byłem i nie będę; 2 - Phii... to nie dla mnie; 3 - Nie mam zdania na ten temat/nie mam jak się do niego uwarunkować; 4 - Tak, uważam że to zdanie całkiem sprawnie mnie opisuje; 5 - Mocno się z tym zdaniem zgadzam, poświęcam bardzo dużo czasu i swojej uwagi by tak było.\"\n",
    "wyniki = []\n",
    "\n",
    "def zadaj_pytanie(a):\n",
    "    \n",
    "    print(a)\n",
    "    ax = input(odpowiedzi)\n",
    "    ax = int(ax)\n",
    "    return ax"
   ]
  },
  {
   "cell_type": "code",
   "execution_count": 38,
   "metadata": {},
   "outputs": [
    {
     "name": "stdout",
     "output_type": "stream",
     "text": [
      "Jestem osobą, która przykłada uwagę do dbania o swoje ciało w aspekcie kondycyjnym i fizycznym.\n"
     ]
    },
    {
     "name": "stdin",
     "output_type": "stream",
     "text": [
      "odpowiedz na poniższe pytanie wybierając cyfrę od 1 do 5, które znaczą: 1 - kłamstwa i oszczerstwa!!! nigdy taki nie byłem i nie będę; 2 - Phii... to nie dla mnie; 3 - Nie mam zdania na ten temat/nie mam jak się do niego uwarunkować; 4 - Tak, uważam że to zdanie całkiem sprawnie mnie opisuje; 5 - Mocno się z tym zdaniem zgadzam, poświęcam bardzo dużo czasu i swojej uwagi by tak było. 5\n"
     ]
    },
    {
     "name": "stdout",
     "output_type": "stream",
     "text": [
      "Jestem osobą, która przykłada uwagę do zdrowego odżywiania się (cokolwiek to znaczy).\n"
     ]
    },
    {
     "name": "stdin",
     "output_type": "stream",
     "text": [
      "odpowiedz na poniższe pytanie wybierając cyfrę od 1 do 5, które znaczą: 1 - kłamstwa i oszczerstwa!!! nigdy taki nie byłem i nie będę; 2 - Phii... to nie dla mnie; 3 - Nie mam zdania na ten temat/nie mam jak się do niego uwarunkować; 4 - Tak, uważam że to zdanie całkiem sprawnie mnie opisuje; 5 - Mocno się z tym zdaniem zgadzam, poświęcam bardzo dużo czasu i swojej uwagi by tak było. 5\n"
     ]
    },
    {
     "name": "stdout",
     "output_type": "stream",
     "text": [
      "Jestem osobą, która w ogóle nie pije alkoholu, a jeśli już to naprawde sporadycznie.\n"
     ]
    },
    {
     "name": "stdin",
     "output_type": "stream",
     "text": [
      "odpowiedz na poniższe pytanie wybierając cyfrę od 1 do 5, które znaczą: 1 - kłamstwa i oszczerstwa!!! nigdy taki nie byłem i nie będę; 2 - Phii... to nie dla mnie; 3 - Nie mam zdania na ten temat/nie mam jak się do niego uwarunkować; 4 - Tak, uważam że to zdanie całkiem sprawnie mnie opisuje; 5 - Mocno się z tym zdaniem zgadzam, poświęcam bardzo dużo czasu i swojej uwagi by tak było. 5\n"
     ]
    },
    {
     "name": "stdout",
     "output_type": "stream",
     "text": [
      "Uważam, iż nie posiadam kałduna taktycznego.\n"
     ]
    },
    {
     "name": "stdin",
     "output_type": "stream",
     "text": [
      "odpowiedz na poniższe pytanie wybierając cyfrę od 1 do 5, które znaczą: 1 - kłamstwa i oszczerstwa!!! nigdy taki nie byłem i nie będę; 2 - Phii... to nie dla mnie; 3 - Nie mam zdania na ten temat/nie mam jak się do niego uwarunkować; 4 - Tak, uważam że to zdanie całkiem sprawnie mnie opisuje; 5 - Mocno się z tym zdaniem zgadzam, poświęcam bardzo dużo czasu i swojej uwagi by tak było. 5\n"
     ]
    },
    {
     "name": "stdout",
     "output_type": "stream",
     "text": [
      "Jest mi źle z tym jak wyglądam i chciał(a)bym być chudszy lub bardziej umięśniony.\n"
     ]
    },
    {
     "name": "stdin",
     "output_type": "stream",
     "text": [
      "odpowiedz na poniższe pytanie wybierając cyfrę od 1 do 5, które znaczą: 1 - kłamstwa i oszczerstwa!!! nigdy taki nie byłem i nie będę; 2 - Phii... to nie dla mnie; 3 - Nie mam zdania na ten temat/nie mam jak się do niego uwarunkować; 4 - Tak, uważam że to zdanie całkiem sprawnie mnie opisuje; 5 - Mocno się z tym zdaniem zgadzam, poświęcam bardzo dużo czasu i swojej uwagi by tak było. 5\n"
     ]
    }
   ],
   "source": [
    "wynik = zadaj_pytanie(a)\n",
    "wyniki.append(wynik)\n",
    "wynik = zadaj_pytanie(b)\n",
    "wyniki.append(wynik)\n",
    "wynik = zadaj_pytanie(c)\n",
    "wyniki.append(wynik)\n",
    "wynik = zadaj_pytanie(d)\n",
    "wyniki.append(wynik)\n",
    "wynik = zadaj_pytanie(e)\n",
    "wyniki.append(wynik)\n",
    "w = sum(wyniki)\n",
    "w = int(wynik_koncowy)\n",
    "if w >= 20 and w <= 25:\n",
    "    print(\"Świetnie, że dbasz o swoje zdrowie, oby tak dalej.\")"
   ]
  },
  {
   "cell_type": "code",
   "execution_count": null,
   "metadata": {},
   "outputs": [],
   "source": []
  }
 ],
 "metadata": {
  "kernelspec": {
   "display_name": "Python 3",
   "language": "python",
   "name": "python3"
  },
  "language_info": {
   "codemirror_mode": {
    "name": "ipython",
    "version": 3
   },
   "file_extension": ".py",
   "mimetype": "text/x-python",
   "name": "python",
   "nbconvert_exporter": "python",
   "pygments_lexer": "ipython3",
   "version": "3.7.0"
  }
 },
 "nbformat": 4,
 "nbformat_minor": 2
}
