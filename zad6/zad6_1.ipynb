{
 "cells": [
  {
   "cell_type": "code",
   "execution_count": 16,
   "metadata": {},
   "outputs": [
    {
     "ename": "IndexError",
     "evalue": "list index out of range",
     "output_type": "error",
     "traceback": [
      "\u001b[1;31m---------------------------------------------------------------------------\u001b[0m",
      "\u001b[1;31mIndexError\u001b[0m                                Traceback (most recent call last)",
      "\u001b[1;32m<ipython-input-16-7ec264d7ff64>\u001b[0m in \u001b[0;36m<module>\u001b[1;34m()\u001b[0m\n\u001b[0;32m     14\u001b[0m         \u001b[0mx\u001b[0m \u001b[1;33m+=\u001b[0m \u001b[1;36m1\u001b[0m\u001b[1;33m\u001b[0m\u001b[0m\n\u001b[0;32m     15\u001b[0m \u001b[1;33m\u001b[0m\u001b[0m\n\u001b[1;32m---> 16\u001b[1;33m \u001b[0mocena\u001b[0m \u001b[1;33m=\u001b[0m \u001b[1;33m(\u001b[0m\u001b[0mwyniki\u001b[0m\u001b[1;33m[\u001b[0m\u001b[1;36m0\u001b[0m\u001b[1;33m]\u001b[0m \u001b[1;33m+\u001b[0m \u001b[0mwyniki\u001b[0m\u001b[1;33m[\u001b[0m\u001b[1;36m1\u001b[0m\u001b[1;33m]\u001b[0m \u001b[1;33m+\u001b[0m \u001b[0mwyniki\u001b[0m\u001b[1;33m[\u001b[0m\u001b[1;36m2\u001b[0m\u001b[1;33m]\u001b[0m \u001b[1;33m+\u001b[0m \u001b[0mwyniki\u001b[0m\u001b[1;33m[\u001b[0m\u001b[1;36m3\u001b[0m\u001b[1;33m]\u001b[0m \u001b[1;33m+\u001b[0m \u001b[0mwyniki\u001b[0m\u001b[1;33m[\u001b[0m\u001b[1;36m4\u001b[0m\u001b[1;33m]\u001b[0m\u001b[1;33m)\u001b[0m \u001b[1;33m/\u001b[0m \u001b[1;36m5\u001b[0m\u001b[1;33m\u001b[0m\u001b[0m\n\u001b[0m",
      "\u001b[1;31mIndexError\u001b[0m: list index out of range"
     ]
    }
   ],
   "source": [
    "pytanie_1 = \"Jestem osobą, która przykłada uwagę do dbania o swoje ciało w aspekcie kondycyjnym i fizycznym.\"\n",
    "pytanie_2 = \"Jestem osobą, która przykłada uwagę do zdrowego odżywiania się (cokolwiek to znaczy).\"\n",
    "pytanie_3 = \"Jestem osobą, która w ogóle nie pije alkoholu, a jeśli już to naprawde sporadycznie.\"\n",
    "pytanie_4 = \"Uważam, iż nie posiadam kałduna taktycznego.\"\n",
    "pytanie_5 = \"Jest mi źle z tym jak wyglądam i chciał(a)bym być chudszy lub bardziej umięśniony.\"\n",
    "pytania = [pytanie_1, pytanie_2, pytanie_3, pytanie_4, pytanie_5]\n",
    "odpowiedzi = \"odpowiedz na poniższe pytanie wybierając cyfrę od 1 do 5, które znaczą: 1 - kłamstwa i oszczerstwa!!! nigdy taki nie byłem i nie będę; 2 - Phii... to nie dla mnie; 3 - Nie mam zdania na ten temat/nie mam jak się do niego uwarunkować; 4 - Tak, uważam że to zdanie całkiem sprawnie mnie opisuje; 5 - Mocno się z tym zdaniem zgadzam, poświęcam bardzo dużo czasu i swojej uwagi by tak było.\"\n",
    "wyniki = []\n",
    "\n",
    "def zadaj_pytanie(x = 0):\n",
    "    while x < 6:\n",
    "        wynik = input(odpowiedzi, pytania[x])\n",
    "        wyniki.append(wynik)\n",
    "        x += 1\n",
    "        \n",
    "ocena = (wyniki[0] + wyniki[1] + wyniki[2] + wyniki[3] + wyniki[4]) / 5"
   ]
  },
  {
   "cell_type": "code",
   "execution_count": null,
   "metadata": {},
   "outputs": [],
   "source": []
  }
 ],
 "metadata": {
  "kernelspec": {
   "display_name": "Python 3",
   "language": "python",
   "name": "python3"
  },
  "language_info": {
   "codemirror_mode": {
    "name": "ipython",
    "version": 3
   },
   "file_extension": ".py",
   "mimetype": "text/x-python",
   "name": "python",
   "nbconvert_exporter": "python",
   "pygments_lexer": "ipython3",
   "version": "3.7.0"
  }
 },
 "nbformat": 4,
 "nbformat_minor": 2
}
