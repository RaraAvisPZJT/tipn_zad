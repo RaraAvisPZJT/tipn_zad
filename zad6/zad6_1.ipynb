{
 "cells": [
  {
   "cell_type": "code",
   "execution_count": null,
   "metadata": {},
   "outputs": [],
   "source": [
    "pytanie = [\"Jestem osobą, która przykłada uwagę do dbania o swoje ciało w aspekcie kondycyjnym i fizycznym.\", \"Jestem osobą, która przykłada uwagę do zdrowego odżywiania się(cokolwiek to znaczy).\", \"Jestem osobą, która w ogóle nie pije alkoholu, a jeśli już to naprawde sporadycznie.\", \"Uważam, iż nie posiadam kałduna taktycznego.\", \"Jest mi źle z tym jak wyglądam i chciałbym być chudszy lub bardziej umięśniony.\"]\n",
    "\n",
    "def zadaj_pytanie:\n",
    "    input"
   ]
  }
 ],
 "metadata": {
  "kernelspec": {
   "display_name": "Python 3",
   "language": "python",
   "name": "python3"
  },
  "language_info": {
   "codemirror_mode": {
    "name": "ipython",
    "version": 3
   },
   "file_extension": ".py",
   "mimetype": "text/x-python",
   "name": "python",
   "nbconvert_exporter": "python",
   "pygments_lexer": "ipython3",
   "version": "3.7.0"
  }
 },
 "nbformat": 4,
 "nbformat_minor": 2
}
